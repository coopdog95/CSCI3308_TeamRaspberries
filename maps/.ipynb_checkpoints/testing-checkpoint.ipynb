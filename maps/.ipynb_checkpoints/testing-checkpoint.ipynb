{
 "cells": [
  {
   "cell_type": "code",
   "execution_count": 1,
   "metadata": {},
   "outputs": [
    {
     "name": "stdout",
     "output_type": "stream",
     "text": [
      "Something is wrong with your user name or password, but you are still geting data\n"
     ]
    }
   ],
   "source": [
    "\n",
    "\n",
    "from __future__ import print_function\n",
    "from gmplot import gmplot\n",
    "from datetime import date, datetime, timedelta\n",
    "import mysql.connector\n",
    "import pandas as pd\n",
    "from mysql.connector import errorcode\n",
    "from mysql.connector import errorcode\n",
    "import mapboxgl\n",
    "from mapboxgl.utils import *\n",
    "from mapboxgl.viz import * \n",
    "import os\n",
    "import html\n",
    "import geojson\n",
    "\n",
    "\n",
    "\n",
    "\n",
    "# this will set up the connection with the MySql server. \n",
    "cnx = mysql.connector.connect(user='proj', password='password.',\n",
    "                              host='den1.mysql6.gear.host',\n",
    "                              database='proj')\n",
    "\n",
    "try:\n",
    "  cnx = mysql.connector.connect(user='proj',\n",
    "                                database='proj')\n",
    "except mysql.connector.Error as err:\n",
    "  if err.errno == errorcode.ER_ACCESS_DENIED_ERROR:\n",
    "    print(\"Something is wrong with your user name or password, but you are still geting data\")\n",
    "  elif err.errno == errorcode.ER_BAD_DB_ERROR:\n",
    "    print(\"Database does not exist\")\n",
    "  else:\n",
    "    print(err)\n",
    "    print(\"something is messed up\")\n",
    "else:\n",
    "  print(\"its working and can except MySQL quarry's\")\n",
    "  # cnx.close()\n"
   ]
  },
  {
   "cell_type": "code",
   "execution_count": 2,
   "metadata": {},
   "outputs": [],
   "source": [
    "# help(mapboxgl)\n",
    "# dir(mapboxgl)"
   ]
  },
  {
   "cell_type": "code",
   "execution_count": 3,
   "metadata": {},
   "outputs": [],
   "source": [
    "df=pd.read_sql(\"SELECT * FROM fake_sensorInfo;\",cnx)\n",
    "# this is the number of rows of data. \n",
    "# print(len(df.index))\n",
    "# this is working \n",
    "# print(df) "
   ]
  },
  {
   "cell_type": "code",
   "execution_count": 4,
   "metadata": {},
   "outputs": [
    {
     "name": "stdout",
     "output_type": "stream",
     "text": [
      "1\n",
      "   sensorID    testDate testTime  temp  humidity  userID   latitude  \\\n",
      "0        88  2018-04-26 14:46:15    24        28     666  40.006875   \n",
      "\n",
      "    longitude  \n",
      "0 -105.263365  \n"
     ]
    }
   ],
   "source": [
    "demo=pd.read_sql(\"SELECT * FROM sensorinfo ORDER BY testTime ASC LIMIT 1;\",cnx)\n",
    "# this is the number of rows of data. \n",
    "print(len(demo.index))\n",
    "print(demo)"
   ]
  },
  {
   "cell_type": "code",
   "execution_count": 5,
   "metadata": {},
   "outputs": [],
   "source": [
    "# this will combined both of the panda data frames, Im not able to plot from this.\n",
    "frames=[demo,df]\n",
    "result=pd.concat(frames)\n",
    "# print(result)"
   ]
  },
  {
   "cell_type": "code",
   "execution_count": 6,
   "metadata": {},
   "outputs": [
    {
     "name": "stdout",
     "output_type": "stream",
     "text": [
      "Last Temp is:  24\n",
      "Last Humidy is  28\n",
      "user ID is  666\n"
     ]
    }
   ],
   "source": [
    "print('Last Temp is: ',demo.iat[0,3])\n",
    "print('Last Humidy is ' ,demo.iat[0,4])\n",
    "print('user ID is ' ,demo.iat[0,5])"
   ]
  },
  {
   "cell_type": "code",
   "execution_count": 7,
   "metadata": {
    "collapsed": true
   },
   "outputs": [],
   "source": [
    "# The MySQLCursor class instantiates objects that can execute operations such as SQL statements. Cursor objects interact with the MySQL server using a MySQLConnection object.\n",
    "cursor = cnx.cursor()\n",
    "\n",
    "cnx.close()"
   ]
  },
  {
   "cell_type": "code",
   "execution_count": 8,
   "metadata": {},
   "outputs": [],
   "source": [
    "color_stops1 = [[0, 'green']]\n",
    "color_stops2 = [[0, 'red']]"
   ]
  },
  {
   "cell_type": "code",
   "execution_count": null,
   "metadata": {
    "collapsed": true
   },
   "outputs": [],
   "source": [
    "# data = df_to_geojson(df, filename=\"lat_lng_plot.geojson\",\n",
    "#              properties=['userID','temp','humidity'],\n",
    "#              lat='latitude',lon='longitude', precision=50)\n"
   ]
  },
  {
   "cell_type": "code",
   "execution_count": 9,
   "metadata": {},
   "outputs": [
    {
     "name": "stdout",
     "output_type": "stream",
     "text": [
      "{'type': 'file', 'filename': 'Fake_data.geojson', 'feature_count': 49}\n"
     ]
    }
   ],
   "source": [
    "Fake = df_to_geojson(df, filename=\"Fake_data.geojson\",\n",
    "             properties=['userID','temp','humidity'],\n",
    "             lat='latitude',lon='longitude', precision=50)\n",
    "print(Fake)\n"
   ]
  },
  {
   "cell_type": "code",
   "execution_count": 10,
   "metadata": {},
   "outputs": [
    {
     "name": "stdout",
     "output_type": "stream",
     "text": [
      "{'type': 'file', 'filename': 'Real_data.geojson', 'feature_count': 1}\n"
     ]
    }
   ],
   "source": [
    "\n",
    "Real = df_to_geojson(demo, filename=\"Real_data.geojson\",\n",
    "             properties=['userID','temp','humidity'],\n",
    "             lat='latitude',lon='longitude', precision=50)\n",
    "\n",
    "print(Real)"
   ]
  },
  {
   "cell_type": "code",
   "execution_count": 11,
   "metadata": {},
   "outputs": [],
   "source": [
    "# combined the panda db. \n",
    "\n",
    "# both = df_to_geojson(result, filename=\"both_data.geojson\",\n",
    "#              properties=['userID','temp','humidity'],\n",
    "#              lat='latitude',lon='longitude', precision=50)\n",
    "\n",
    "# print(both)\n"
   ]
  },
  {
   "cell_type": "code",
   "execution_count": 12,
   "metadata": {
    "scrolled": false
   },
   "outputs": [
    {
     "name": "stdout",
     "output_type": "stream",
     "text": [
      "40.006875 -105.263365\n"
     ]
    }
   ],
   "source": [
    "# this will set the center of the map from the Real data. \n",
    "center_lat_Real = demo.iat[0,6]\n",
    "center_lng_Real = demo.iat[0,7]\n",
    "print(center_lat_Real,center_lng_Real)"
   ]
  },
  {
   "cell_type": "code",
   "execution_count": 13,
   "metadata": {},
   "outputs": [
    {
     "name": "stdout",
     "output_type": "stream",
     "text": [
      "39.374247 -105.25827\n"
     ]
    }
   ],
   "source": [
    "# this will set the center of the map from the Fake data. \n",
    "center_lat_fake = df.iat[0,6]\n",
    "center_lng_fake = df.iat[0,7]\n",
    "print(center_lat_fake,center_lng_fake)"
   ]
  },
  {
   "cell_type": "code",
   "execution_count": 14,
   "metadata": {
    "collapsed": true
   },
   "outputs": [],
   "source": [
    "# this is the api key for the map. \n",
    "os.environ['MAPBOX_ACCESS_TOKEN']=\"pk.eyJ1IjoiY29vcGVydDkyNSIsImEiOiJjamdmd3l6ZjIwOHFkMzNwNHc5MjRtbTd6In0.GdxOVpiAfQ2WgZgfF_FUbg\"\n",
    "token = os.getenv('MAPBOX_ACCESS_TOKEN')\n",
    "      "
   ]
  },
  {
   "cell_type": "code",
   "execution_count": 15,
   "metadata": {
    "scrolled": true
   },
   "outputs": [],
   "source": [
    "# vizz = CircleViz('Real_data.geojson',\n",
    "#                 access_token=token,\n",
    "#                 height='400px',\n",
    "#                 radius=5,\n",
    "#                 color_property='userID',\n",
    "#                 color_stops = color_stops1,\n",
    "#                 center=[-105, 40],\n",
    "#                 stroke_width=0.0,\n",
    "#                 zoom=9,\n",
    "#                 below_layer = 'waterway-label',)\n",
    "# #                 style = 'mapbox://styles/mapbox/satellite-v9')\n",
    "# vizz.show()"
   ]
  },
  {
   "cell_type": "code",
   "execution_count": 17,
   "metadata": {
    "scrolled": true
   },
   "outputs": [
    {
     "data": {
      "text/html": [
       "<iframe id=\"map\", srcdoc=\"<!DOCTYPE html>\n",
       "<html>\n",
       "<head>\n",
       "<title>mapboxgl-jupyter viz</title>\n",
       "<meta charset='UTF-8' />\n",
       "<meta name='viewport'\n",
       "      content='initial-scale=1,maximum-scale=1,user-scalable=no' />\n",
       "<script type='text/javascript'\n",
       "        src='https://api.tiles.mapbox.com/mapbox-gl-js/v0.42.2/mapbox-gl.js'></script>\n",
       "<link type='text/css'\n",
       "      href='https://api.tiles.mapbox.com/mapbox-gl-js/v0.42.2/mapbox-gl.css' rel='stylesheet' />\n",
       "<style type='text/css'>\n",
       "    body { margin:0; padding:0; }\n",
       "    .map { position:absolute; top:0; bottom:0; width:100%; }\n",
       "    .legend {\n",
       "        background-color: white;\n",
       "        color: black;\n",
       "        border-radius: 3px;\n",
       "        bottom: 50px;\n",
       "        width: 100px;\n",
       "        box-shadow: 0 1px 2px rgba(0, 0, 0, 0.10);\n",
       "        font: 12px/20px 'Helvetica Neue', Arial, Helvetica, sans-serif;\n",
       "        padding: 12px;\n",
       "        position: absolute;\n",
       "        right: 10px;\n",
       "        z-index: 1;\n",
       "    }\n",
       "    .legend h4 { margin: 0 0 10px; }\n",
       "    .legend-title {\n",
       "        margin: 6px;\n",
       "        padding: 6px;\n",
       "        font-weight: bold !important;\n",
       "        font-size: 14px;\n",
       "        font: 12px/20px 'Helvetica Neue', Arial, Helvetica, sans-serif;\n",
       "    }\n",
       "    .legend div span {\n",
       "        border-radius: 50%;\n",
       "        display: inline-block;\n",
       "        height: 10px;\n",
       "        margin-right: 5px;\n",
       "        width: 10px;\n",
       "    }\n",
       "</style>\n",
       "\n",
       "</head>\n",
       "<body>\n",
       "\n",
       "<div id='map' class='map'></div>\n",
       "<div id='legend' class='legend'></div>\n",
       "\n",
       "<script type='text/javascript'>\n",
       "\n",
       "function calcCircleColorLegend(myColorStops, title) {\n",
       "    //Calculate a legend element on a Mapbox GL Style Spec property function stops array\n",
       "    var mytitle = document.createElement('div');\n",
       "    mytitle.textContent = title;\n",
       "    mytitle.className = 'legend-title'\n",
       "    var legend = document.getElementById('legend');\n",
       "    legend.appendChild(mytitle);\n",
       "\n",
       "    for (p = 0; p < myColorStops.length; p++) {\n",
       "        if (!!document.getElementById('legend-points-value-' + p)) {\n",
       "            //update the legend if it already exists\n",
       "            document.getElementById('legend-points-value-' + p).textContent = myColorStops[p][0];\n",
       "            document.getElementById('legend-points-id-' + p).style.backgroundColor = myColorStops[p][1];\n",
       "        } else {\n",
       "            //create the legend if it doesn't yet exist\n",
       "            var item = document.createElement('div');\n",
       "            var key = document.createElement('span');\n",
       "            key.className = 'legend-key';\n",
       "            var value = document.createElement('span');\n",
       "\n",
       "            key.id = 'legend-points-id-' + p;\n",
       "            key.style.backgroundColor = myColorStops[p][1];\n",
       "            value.id = 'legend-points-value-' + p;\n",
       "\n",
       "            item.appendChild(key);\n",
       "            item.appendChild(value);\n",
       "            legend.appendChild(item);\n",
       "            \n",
       "            data = document.getElementById('legend-points-value-' + p)\n",
       "            data.textContent = myColorStops[p][0];\n",
       "        }\n",
       "    }\n",
       "}\n",
       "\n",
       "function generateInterpolateExpression(propertyValue, stops) {\n",
       "    var expression;\n",
       "    if (propertyValue == 'zoom') {\n",
       "        expression = ['interpolate', ['exponential', 1.2], ['zoom']]\n",
       "    }\n",
       "    else if (propertyValue == 'heatmap-density') {\n",
       "        expression = ['interpolate', ['linear'], ['heatmap-density']]\n",
       "    }\n",
       "    else {\n",
       "        expression = ['interpolate', ['linear'], ['get', propertyValue]]\n",
       "    }\n",
       "\n",
       "    for (var i=0; i<stops.length; i++) {\n",
       "        expression.push(stops[i][0], stops[i][1])\n",
       "    }\n",
       "    return expression\n",
       "}\n",
       "\n",
       "\n",
       "function generateMatchExpression(propertyValue, stops, defaultValue) {\n",
       "    var expression;\n",
       "    expression = ['match', ['get', propertyValue]]\n",
       "    for (var i=0; i<stops.length; i++) {\n",
       "        expression.push(stops[i][0], stops[i][1])\n",
       "    }\n",
       "    expression.push(defaultValue)\n",
       "    \n",
       "    return expression\n",
       "}\n",
       "\n",
       "\n",
       "function generatePropertyExpression(expressionType, propertyValue, stops, defaultValue) {\n",
       "    var expression;\n",
       "    if (expressionType == 'match') {\n",
       "        expression = generateMatchExpression(propertyValue, stops, defaultValue)\n",
       "    }\n",
       "    else {\n",
       "        expression = generateInterpolateExpression(propertyValue, stops)\n",
       "    }\n",
       "\n",
       "    return expression\n",
       "}\n",
       "\n",
       "\n",
       "</script>\n",
       "\n",
       "<!-- main map creation code, extended by mapboxgl/templates/circle.html -->\n",
       "<script type='text/javascript'>\n",
       "\n",
       "\n",
       "    mapboxgl.accessToken = 'pk.eyJ1IjoiY29vcGVydDkyNSIsImEiOiJjamdmd3l6ZjIwOHFkMzNwNHc5MjRtbTd6In0.GdxOVpiAfQ2WgZgfF_FUbg';\n",
       "\n",
       "    var map = new mapboxgl.Map({\n",
       "        container: 'map',\n",
       "        style: 'mapbox://styles/mapbox/light-v9?optimize=true',\n",
       "        center: [-105, 40],\n",
       "        zoom: 9,\n",
       "        pitch: 0,\n",
       "        bearing: 0,\n",
       "        transformRequest: (url, resourceType) => {\n",
       "                    if ( url.slice(0,22) == 'https://api.mapbox.com' || \n",
       "                        url.slice(0,26) == 'https://a.tiles.mapbox.com' || \n",
       "                        url.slice(0,26) == 'https://b.tiles.mapbox.com' ||\n",
       "                        url.slice(0,26) == 'https://c.tiles.mapbox.com') {\n",
       "                        //Add PowerBI Plugin identifier for Mapbox API traffic\n",
       "                        return {\n",
       "                           url: [url.slice(0, url.indexOf('?')+1), 'pluginName=PowerBI&', url.slice(url.indexOf('?')+1)].join('')\n",
       "                         }\n",
       "                     }\n",
       "                     else {\n",
       "                         //Do not transform URL for non Mapbox GET requests\n",
       "                         return {url: url}\n",
       "                     }\n",
       "                }\n",
       "    });\n",
       "\n",
       "    \n",
       "\n",
       "        map.addControl(new mapboxgl.NavigationControl());\n",
       "\n",
       "    \n",
       "\n",
       "    \n",
       "\n",
       "    \n",
       "        calcCircleColorLegend([[0, 'red']] , 'userID');\n",
       "    \n",
       "    \n",
       "\n",
       "\n",
       "    \n",
       "\n",
       "    map.on('style.load', function() {\n",
       "        \n",
       "        map.addSource('data', {\n",
       "            'type': 'geojson',\n",
       "            'data': 'Fake_data.geojson',\n",
       "            'buffer': 1,\n",
       "            'maxzoom': 14\n",
       "        });\n",
       "\n",
       "        map.addLayer({\n",
       "            'id': 'label',\n",
       "            'source': 'data',\n",
       "            'type': 'symbol',\n",
       "            'maxzoom': 24,\n",
       "            'minzoom': 0,\n",
       "            'layout': {\n",
       "                \n",
       "                'text-size' : generateInterpolateExpression('zoom', [[0, 8],[22, 3* 8]] ),\n",
       "                'text-offset': [0,-1]\n",
       "            },\n",
       "            'paint': {\n",
       "                'text-halo-color': 'white',\n",
       "                'text-halo-width': generatePropertyExpression('interpolate', 'zoom', [[0,1], [18,5* 1]]),\n",
       "                'text-color': '#131516'\n",
       "            }\n",
       "        }, 'waterway-label' )\n",
       "        \n",
       "        map.addLayer({\n",
       "            'id': 'circle',\n",
       "            'source': 'data',\n",
       "            'type': 'circle',\n",
       "            'maxzoom': 24,\n",
       "            'minzoom': 0,\n",
       "            'paint': {\n",
       "                \n",
       "                    'circle-color': generatePropertyExpression('interpolate', 'userID', [[0, 'red']], 'grey' ),\n",
       "                    \n",
       "                'circle-radius' : generatePropertyExpression('interpolate', 'zoom', [[0,5], [22,10 * 5]]),\n",
       "                'circle-stroke-color': 'grey',\n",
       "                'circle-stroke-width': generatePropertyExpression('interpolate', 'zoom', [[0,0.0], [18,5* 0.0]]),\n",
       "                'circle-opacity' : 1,\n",
       "                'circle-stroke-opacity' : 1\n",
       "            }\n",
       "        }, 'label');\n",
       "        \n",
       "        // Create a popup\n",
       "        var popup = new mapboxgl.Popup({\n",
       "            closeButton: false,\n",
       "            closeOnClick: false\n",
       "        });\n",
       "        \n",
       "        // Show the popup on mouseover\n",
       "        map.on('mousemove', 'circle', function(e) {\n",
       "            map.getCanvas().style.cursor = 'pointer';\n",
       "            \n",
       "            let f = e.features[0];\n",
       "            let popup_html = '<div><li><b>Location</b>: ' + f.geometry.coordinates[0].toPrecision(6) + \n",
       "                ', ' + f.geometry.coordinates[1].toPrecision(6) + '</li>';\n",
       "\n",
       "            for (key in f.properties) {\n",
       "                popup_html += '<li><b> ' + key + '</b>: ' + f.properties[key] + ' </li>'\n",
       "            }\n",
       "\n",
       "            popup_html += '</div>'\n",
       "            popup.setLngLat(e.features[0].geometry.coordinates)\n",
       "                .setHTML(popup_html)\n",
       "                .addTo(map);\n",
       "        });\n",
       "\n",
       "        map.on('mouseleave', 'circle', function() {\n",
       "            map.getCanvas().style.cursor = '';\n",
       "            popup.remove();\n",
       "        });\n",
       "        \n",
       "        // Fly to on click\n",
       "        map.on('click', 'circle', function(e) {\n",
       "            map.easeTo({\n",
       "                center: e.features[0].geometry.coordinates,\n",
       "                zoom: map.getZoom() + 1\n",
       "            });\n",
       "        });\n",
       "    });\n",
       "\n",
       "\n",
       "\n",
       "\n",
       "</script>\n",
       "\n",
       "</body>\n",
       "</html>\" style=\"width: 100%; height: 400px;\"></iframe>"
      ],
      "text/plain": [
       "<IPython.core.display.HTML object>"
      ]
     },
     "metadata": {},
     "output_type": "display_data"
    }
   ],
   "source": [
    "\n",
    "viz = CircleViz('Fake_data.geojson',\n",
    "                access_token=token,\n",
    "                height='400px',\n",
    "                radius=5,\n",
    "                color_property='userID',\n",
    "                color_stops = color_stops2,\n",
    "                center=[-105, 40],\n",
    "                stroke_width=0.0,\n",
    "                zoom=9,\n",
    "                below_layer = 'waterway-label')\n",
    "#                 style = 'mapbox://styles/mapbox/satellite-v9')\n",
    "viz.show()\n"
   ]
  },
  {
   "cell_type": "code",
   "execution_count": null,
   "metadata": {
    "collapsed": true
   },
   "outputs": [],
   "source": [
    "with open('viz.html', 'w') as f:\n",
    "    f.write(viz.create_html())"
   ]
  },
  {
   "cell_type": "code",
   "execution_count": 18,
   "metadata": {},
   "outputs": [
    {
     "ename": "NameError",
     "evalue": "name 'addLayer' is not defined",
     "output_type": "error",
     "traceback": [
      "\u001b[0;31m---------------------------------------------------------------------------\u001b[0m",
      "\u001b[0;31mNameError\u001b[0m                                 Traceback (most recent call last)",
      "\u001b[0;32m<ipython-input-18-80d680e3f9e1>\u001b[0m in \u001b[0;36m<module>\u001b[0;34m()\u001b[0m\n\u001b[0;32m----> 1\u001b[0;31m \u001b[0maddLayer\u001b[0m\u001b[0;34m(\u001b[0m\u001b[0;34m)\u001b[0m\u001b[0;34m\u001b[0m\u001b[0m\n\u001b[0m",
      "\u001b[0;31mNameError\u001b[0m: name 'addLayer' is not defined"
     ]
    }
   ],
   "source": [
    "addLayer()"
   ]
  },
  {
   "cell_type": "code",
   "execution_count": null,
   "metadata": {
    "collapsed": true
   },
   "outputs": [],
   "source": []
  }
 ],
 "metadata": {
  "kernelspec": {
   "display_name": "Python 3",
   "language": "python",
   "name": "python3"
  },
  "language_info": {
   "codemirror_mode": {
    "name": "ipython",
    "version": 3
   },
   "file_extension": ".py",
   "mimetype": "text/x-python",
   "name": "python",
   "nbconvert_exporter": "python",
   "pygments_lexer": "ipython3",
   "version": "3.6.3"
  }
 },
 "nbformat": 4,
 "nbformat_minor": 2
}
